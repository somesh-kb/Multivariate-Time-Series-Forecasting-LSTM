{
  "nbformat": 4,
  "nbformat_minor": 0,
  "metadata": {
    "colab": {
      "name": "Time-Series-Forecasting-Multivariate-London-Bike-Sharing.ipynb",
      "provenance": [],
      "collapsed_sections": [],
      "authorship_tag": "ABX9TyMyIc5TtD3VSYBuhXEeeAos",
      "include_colab_link": true
    },
    "kernelspec": {
      "name": "python3",
      "display_name": "Python 3"
    },
    "accelerator": "GPU"
  },
  "cells": [
    {
      "cell_type": "markdown",
      "metadata": {
        "id": "view-in-github",
        "colab_type": "text"
      },
      "source": [
        "<a href=\"https://colab.research.google.com/github/somesh-kb/Multivariate-Time-Series-Forecasting-LSTM/blob/main/Time_Series_Forecasting_Multivariate_London_Bike_Sharing.ipynb\" target=\"_parent\"><img src=\"https://colab.research.google.com/assets/colab-badge.svg\" alt=\"Open In Colab\"/></a>"
      ]
    },
    {
      "cell_type": "markdown",
      "metadata": {
        "id": "g216MPaDwMaK"
      },
      "source": [
        "\r\n",
        "#**Bike Rental Prediction using LSTM**\r\n",
        "Data vailable @ https://www.kaggle.com/hmavrodiev/london-bike-sharing-dataset?select=london_merged.csv\r\n",
        "\r\n",
        "\r\n"
      ]
    },
    {
      "cell_type": "code",
      "metadata": {
        "id": "ivaQdZpb-e-9"
      },
      "source": [
        "import pandas as pd \r\n",
        "import numpy as np "
      ],
      "execution_count": 4,
      "outputs": []
    },
    {
      "cell_type": "code",
      "metadata": {
        "id": "8LUW-mXcw1J6"
      },
      "source": [
        ""
      ],
      "execution_count": null,
      "outputs": []
    },
    {
      "cell_type": "code",
      "metadata": {
        "colab": {
          "base_uri": "https://localhost:8080/"
        },
        "id": "FoHgLKVCC_Ic",
        "outputId": "56a719ad-d04d-4aff-faf0-0f6cde51cd76"
      },
      "source": [
        "from google.colab import drive \r\n",
        "drive.mount('/content/drive')"
      ],
      "execution_count": 6,
      "outputs": [
        {
          "output_type": "stream",
          "text": [
            "Mounted at /content/drive\n"
          ],
          "name": "stdout"
        }
      ]
    },
    {
      "cell_type": "code",
      "metadata": {
        "id": "tI_HmC9AJYYH"
      },
      "source": [
        "df = pd.read_csv('/content/drive/MyDrive/london_merged.csv')"
      ],
      "execution_count": 7,
      "outputs": []
    },
    {
      "cell_type": "code",
      "metadata": {
        "colab": {
          "base_uri": "https://localhost:8080/"
        },
        "id": "qbafL2h2Jxy4",
        "outputId": "323ea726-607c-4f7b-90a5-c1cd26dee270"
      },
      "source": [
        "print(df.shape)"
      ],
      "execution_count": 8,
      "outputs": [
        {
          "output_type": "stream",
          "text": [
            "(17414, 10)\n"
          ],
          "name": "stdout"
        }
      ]
    },
    {
      "cell_type": "code",
      "metadata": {
        "colab": {
          "base_uri": "https://localhost:8080/"
        },
        "id": "IVtht551Jz54",
        "outputId": "11aef885-4f08-482a-8409-3de4ce55070d"
      },
      "source": [
        "print(df.head(5))"
      ],
      "execution_count": 9,
      "outputs": [
        {
          "output_type": "stream",
          "text": [
            "             timestamp  cnt   t1  ...  is_holiday  is_weekend  season\n",
            "0  2015-01-04 00:00:00  182  3.0  ...         0.0         1.0     3.0\n",
            "1  2015-01-04 01:00:00  138  3.0  ...         0.0         1.0     3.0\n",
            "2  2015-01-04 02:00:00  134  2.5  ...         0.0         1.0     3.0\n",
            "3  2015-01-04 03:00:00   72  2.0  ...         0.0         1.0     3.0\n",
            "4  2015-01-04 04:00:00   47  2.0  ...         0.0         1.0     3.0\n",
            "\n",
            "[5 rows x 10 columns]\n"
          ],
          "name": "stdout"
        }
      ]
    },
    {
      "cell_type": "code",
      "metadata": {
        "id": "c_OYjXo2J3AA",
        "colab": {
          "base_uri": "https://localhost:8080/"
        },
        "outputId": "9fa346d7-7aaa-417a-c747-a36a97c0b9b0"
      },
      "source": [
        "print(df.dtypes)"
      ],
      "execution_count": 10,
      "outputs": [
        {
          "output_type": "stream",
          "text": [
            "timestamp        object\n",
            "cnt               int64\n",
            "t1              float64\n",
            "t2              float64\n",
            "hum             float64\n",
            "wind_speed      float64\n",
            "weather_code    float64\n",
            "is_holiday      float64\n",
            "is_weekend      float64\n",
            "season          float64\n",
            "dtype: object\n"
          ],
          "name": "stdout"
        }
      ]
    },
    {
      "cell_type": "markdown",
      "metadata": {
        "id": "N297mnEypojh"
      },
      "source": [
        "#**date time format**"
      ]
    },
    {
      "cell_type": "code",
      "metadata": {
        "id": "EnfSuIqFdA1I"
      },
      "source": [
        "df['timestamp'] = pd.to_datetime(df['timestamp'],infer_datetime_format=True)"
      ],
      "execution_count": 11,
      "outputs": []
    },
    {
      "cell_type": "code",
      "metadata": {
        "colab": {
          "base_uri": "https://localhost:8080/"
        },
        "id": "bnXakWuddalF",
        "outputId": "c6c9fea1-66c6-4482-b23a-0a0578811fde"
      },
      "source": [
        "print(df.dtypes)"
      ],
      "execution_count": 12,
      "outputs": [
        {
          "output_type": "stream",
          "text": [
            "timestamp       datetime64[ns]\n",
            "cnt                      int64\n",
            "t1                     float64\n",
            "t2                     float64\n",
            "hum                    float64\n",
            "wind_speed             float64\n",
            "weather_code           float64\n",
            "is_holiday             float64\n",
            "is_weekend             float64\n",
            "season                 float64\n",
            "dtype: object\n"
          ],
          "name": "stdout"
        }
      ]
    },
    {
      "cell_type": "code",
      "metadata": {
        "colab": {
          "base_uri": "https://localhost:8080/"
        },
        "id": "g10PTjsRdce2",
        "outputId": "630f4c56-fa2e-413b-ec03-5cd4ac713424"
      },
      "source": [
        "print(df.head(5))"
      ],
      "execution_count": 13,
      "outputs": [
        {
          "output_type": "stream",
          "text": [
            "            timestamp  cnt   t1  ...  is_holiday  is_weekend  season\n",
            "0 2015-01-04 00:00:00  182  3.0  ...         0.0         1.0     3.0\n",
            "1 2015-01-04 01:00:00  138  3.0  ...         0.0         1.0     3.0\n",
            "2 2015-01-04 02:00:00  134  2.5  ...         0.0         1.0     3.0\n",
            "3 2015-01-04 03:00:00   72  2.0  ...         0.0         1.0     3.0\n",
            "4 2015-01-04 04:00:00   47  2.0  ...         0.0         1.0     3.0\n",
            "\n",
            "[5 rows x 10 columns]\n"
          ],
          "name": "stdout"
        }
      ]
    },
    {
      "cell_type": "code",
      "metadata": {
        "colab": {
          "base_uri": "https://localhost:8080/"
        },
        "id": "Jlv-YrEPfWRu",
        "outputId": "d5958cf5-3933-4755-bc0e-cb00ce6f3abc"
      },
      "source": [
        "print(df.columns)"
      ],
      "execution_count": 14,
      "outputs": [
        {
          "output_type": "stream",
          "text": [
            "Index(['timestamp', 'cnt', 't1', 't2', 'hum', 'wind_speed', 'weather_code',\n",
            "       'is_holiday', 'is_weekend', 'season'],\n",
            "      dtype='object')\n"
          ],
          "name": "stdout"
        }
      ]
    },
    {
      "cell_type": "code",
      "metadata": {
        "colab": {
          "base_uri": "https://localhost:8080/",
          "height": 469
        },
        "id": "ZYTIUMVGoY9D",
        "outputId": "a611b8eb-660e-4420-8942-ba553f8fbcf2"
      },
      "source": [
        "import matplotlib.pyplot as plt \r\n",
        "plt.figure(figsize=(12,26))\r\n",
        "df.set_index('timestamp')[['cnt', 't1', 't2', 'hum', 'wind_speed', 'weather_code',\r\n",
        "       'is_holiday', 'is_weekend', 'season']].plot(subplots=True)"
      ],
      "execution_count": 15,
      "outputs": [
        {
          "output_type": "execute_result",
          "data": {
            "text/plain": [
              "array([<matplotlib.axes._subplots.AxesSubplot object at 0x7f13919d0c18>,\n",
              "       <matplotlib.axes._subplots.AxesSubplot object at 0x7f1391b22e80>,\n",
              "       <matplotlib.axes._subplots.AxesSubplot object at 0x7f1391ad8e80>,\n",
              "       <matplotlib.axes._subplots.AxesSubplot object at 0x7f1391a89e80>,\n",
              "       <matplotlib.axes._subplots.AxesSubplot object at 0x7f1391a3be80>,\n",
              "       <matplotlib.axes._subplots.AxesSubplot object at 0x7f1391a6ee80>,\n",
              "       <matplotlib.axes._subplots.AxesSubplot object at 0x7f13919a0e80>,\n",
              "       <matplotlib.axes._subplots.AxesSubplot object at 0x7f1391954e48>,\n",
              "       <matplotlib.axes._subplots.AxesSubplot object at 0x7f1391954eb8>],\n",
              "      dtype=object)"
            ]
          },
          "metadata": {
            "tags": []
          },
          "execution_count": 15
        },
        {
          "output_type": "display_data",
          "data": {
            "text/plain": [
              "<Figure size 864x1872 with 0 Axes>"
            ]
          },
          "metadata": {
            "tags": []
          }
        },
        {
          "output_type": "display_data",
          "data": {
            "image/png": "[encoded data removed]",
            "text/plain": [
              "<Figure size 432x288 with 9 Axes>"
            ]
          },
          "metadata": {
            "tags": [],
            "needs_background": "light"
          }
        }
      ]
    },
    {
      "cell_type": "code",
      "metadata": {
        "colab": {
          "base_uri": "https://localhost:8080/",
          "height": 497
        },
        "id": "97Elke_udkTl",
        "outputId": "f7230968-5555-40d4-c0f5-0b9efaf206bf"
      },
      "source": [
        "import matplotlib.pyplot as plt \r\n",
        "import seaborn as sns \r\n",
        "plt.figure(figsize=(12,8))\r\n",
        "sns.lineplot(x='timestamp', y = 'cnt', data=df)\r\n",
        "plt.show()"
      ],
      "execution_count": 16,
      "outputs": [
        {
          "output_type": "display_data",
          "data": {
            "image/png": "[encoded data removed]",
            "text/plain": [
              "<Figure size 864x576 with 1 Axes>"
            ]
          },
          "metadata": {
            "tags": [],
            "needs_background": "light"
          }
        }
      ]
    },
    {
      "cell_type": "markdown",
      "metadata": {
        "id": "JRxqHXKJpZsq"
      },
      "source": [
        "#**Check for missing values**"
      ]
    },
    {
      "cell_type": "code",
      "metadata": {
        "colab": {
          "base_uri": "https://localhost:8080/"
        },
        "id": "CY8_kvzAd9BF",
        "outputId": "b0d99d80-3143-4dfb-ecc3-55f4d642342d"
      },
      "source": [
        "for col in df.columns:\r\n",
        "  print(col, df[col].isnull().sum())"
      ],
      "execution_count": 17,
      "outputs": [
        {
          "output_type": "stream",
          "text": [
            "timestamp 0\n",
            "cnt 0\n",
            "t1 0\n",
            "t2 0\n",
            "hum 0\n",
            "wind_speed 0\n",
            "weather_code 0\n",
            "is_holiday 0\n",
            "is_weekend 0\n",
            "season 0\n"
          ],
          "name": "stdout"
        }
      ]
    },
    {
      "cell_type": "code",
      "metadata": {
        "colab": {
          "base_uri": "https://localhost:8080/"
        },
        "id": "roucZkAsdcHH",
        "outputId": "df3733c9-70c7-4d6e-b8c9-d2e8ebae8cbc"
      },
      "source": [
        "df1 = df[['cnt', 't1', 't2', 'hum', 'wind_speed', 'weather_code', 'is_holiday',\r\n",
        "       'is_weekend', 'season']]\r\n",
        "print(df.columns)\r\n",
        "from sklearn.preprocessing import MinMaxScaler\r\n",
        "\r\n",
        "scaler = MinMaxScaler()\r\n",
        "\r\n",
        "scaled_data = scaler.fit_transform(df1)"
      ],
      "execution_count": 92,
      "outputs": [
        {
          "output_type": "stream",
          "text": [
            "Index(['cnt', 't1', 't2', 'hum', 'wind_speed', 'weather_code', 'is_holiday',\n",
            "       'is_weekend', 'season'],\n",
            "      dtype='object')\n"
          ],
          "name": "stdout"
        }
      ]
    },
    {
      "cell_type": "code",
      "metadata": {
        "colab": {
          "base_uri": "https://localhost:8080/"
        },
        "id": "PV7lMDsmguVR",
        "outputId": "f0dbbcaf-ec88-4b28-fc3e-0482a7bf7461"
      },
      "source": [
        "print(scaled_data)"
      ],
      "execution_count": 19,
      "outputs": [
        {
          "output_type": "stream",
          "text": [
            "[[0.02315522 0.12676056 0.2        ... 0.         1.         1.        ]\n",
            " [0.01755725 0.12676056 0.2125     ... 0.         1.         1.        ]\n",
            " [0.01704835 0.11267606 0.2125     ... 0.         1.         1.        ]\n",
            " ...\n",
            " [0.04287532 0.1971831  0.1875     ... 0.         0.         1.        ]\n",
            " [0.02849873 0.1971831  0.1875     ... 0.         0.         1.        ]\n",
            " [0.01768448 0.18309859 0.175      ... 0.         0.         1.        ]]\n"
          ],
          "name": "stdout"
        }
      ]
    },
    {
      "cell_type": "code",
      "metadata": {
        "colab": {
          "base_uri": "https://localhost:8080/"
        },
        "id": "nPCmSLLJ0yJY",
        "outputId": "69467c25-8531-48da-f5d2-fc80848c7ee7"
      },
      "source": [
        "print(scaled_data.shape)"
      ],
      "execution_count": 21,
      "outputs": [
        {
          "output_type": "stream",
          "text": [
            "(17414, 9)\n"
          ],
          "name": "stdout"
        }
      ]
    },
    {
      "cell_type": "code",
      "metadata": {
        "id": "WazRxwFNfqlW"
      },
      "source": [
        "feature = scaled_data[:,0:9]\r\n",
        "target = scaled_data[:,0]"
      ],
      "execution_count": 25,
      "outputs": []
    },
    {
      "cell_type": "code",
      "metadata": {
        "colab": {
          "base_uri": "https://localhost:8080/"
        },
        "id": "J5nT-HiJ04-3",
        "outputId": "b8858f46-bab3-4373-dec6-9c2db77274f8"
      },
      "source": [
        "print(feature.shape)\r\n",
        "print(target.shape)"
      ],
      "execution_count": 27,
      "outputs": [
        {
          "output_type": "stream",
          "text": [
            "(17414, 9)\n",
            "(17414,)\n"
          ],
          "name": "stdout"
        }
      ]
    },
    {
      "cell_type": "code",
      "metadata": {
        "id": "nVXLKW3NnK9T"
      },
      "source": [
        "from sklearn.model_selection import train_test_split \r\n",
        "\r\n",
        "train_data,test_data,train_target,test_target = train_test_split(feature,target,shuffle=False,random_state=22012021)"
      ],
      "execution_count": 29,
      "outputs": []
    },
    {
      "cell_type": "code",
      "metadata": {
        "colab": {
          "base_uri": "https://localhost:8080/"
        },
        "id": "eRyePGP6nmZF",
        "outputId": "1e5c6337-a48c-4a96-8bed-d91b5f0fcb4f"
      },
      "source": [
        "print(train_data.shape)\r\n",
        "print(train_target.shape)\r\n",
        "\r\n",
        "print(train_data)\r\n",
        "print(train_target)"
      ],
      "execution_count": 30,
      "outputs": [
        {
          "output_type": "stream",
          "text": [
            "(13060, 9)\n",
            "(13060,)\n",
            "[[0.02315522 0.12676056 0.2        ... 0.         1.         1.        ]\n",
            " [0.01755725 0.12676056 0.2125     ... 0.         1.         1.        ]\n",
            " [0.01704835 0.11267606 0.2125     ... 0.         1.         1.        ]\n",
            " ...\n",
            " [0.21170483 0.61971831 0.6625     ... 0.         0.         0.33333333]\n",
            " [0.20305344 0.63380282 0.675      ... 0.         0.         0.33333333]\n",
            " [0.23129771 0.61971831 0.6625     ... 0.         0.         0.33333333]]\n",
            "[0.02315522 0.01755725 0.01704835 ... 0.21170483 0.20305344 0.23129771]\n"
          ],
          "name": "stdout"
        }
      ]
    },
    {
      "cell_type": "code",
      "metadata": {
        "id": "3X3H3iTSfzaW"
      },
      "source": [
        "from keras.preprocessing.sequence import TimeseriesGenerator\r\n",
        "\r\n",
        "data_gen_train = TimeseriesGenerator(train_data,train_target,length = 5,batch_size=32)\r\n",
        "data_gen_test = TimeseriesGenerator(test_data,test_target,length=5,batch_size=32)\r\n"
      ],
      "execution_count": 49,
      "outputs": []
    },
    {
      "cell_type": "code",
      "metadata": {
        "colab": {
          "base_uri": "https://localhost:8080/"
        },
        "id": "FEtAZdaGgwYd",
        "outputId": "1622979c-0dca-4778-8cbf-295e3bda1f8a"
      },
      "source": [
        "data_gen_train[0]"
      ],
      "execution_count": 50,
      "outputs": [
        {
          "output_type": "execute_result",
          "data": {
            "text/plain": [
              "(array([[[0.02315522, 0.12676056, 0.2       , ..., 0.        ,\n",
              "          1.        , 1.        ],\n",
              "         [0.01755725, 0.12676056, 0.2125    , ..., 0.        ,\n",
              "          1.        , 1.        ],\n",
              "         [0.01704835, 0.11267606, 0.2125    , ..., 0.        ,\n",
              "          1.        , 1.        ],\n",
              "         [0.00916031, 0.09859155, 0.2       , ..., 0.        ,\n",
              "          1.        , 1.        ],\n",
              "         [0.00597964, 0.09859155, 0.15      , ..., 0.        ,\n",
              "          1.        , 1.        ]],\n",
              " \n",
              "        [[0.01755725, 0.12676056, 0.2125    , ..., 0.        ,\n",
              "          1.        , 1.        ],\n",
              "         [0.01704835, 0.11267606, 0.2125    , ..., 0.        ,\n",
              "          1.        , 1.        ],\n",
              "         [0.00916031, 0.09859155, 0.2       , ..., 0.        ,\n",
              "          1.        , 1.        ],\n",
              "         [0.00597964, 0.09859155, 0.15      , ..., 0.        ,\n",
              "          1.        , 1.        ],\n",
              "         [0.00585242, 0.09859155, 0.2       , ..., 0.        ,\n",
              "          1.        , 1.        ]],\n",
              " \n",
              "        [[0.01704835, 0.11267606, 0.2125    , ..., 0.        ,\n",
              "          1.        , 1.        ],\n",
              "         [0.00916031, 0.09859155, 0.2       , ..., 0.        ,\n",
              "          1.        , 1.        ],\n",
              "         [0.00597964, 0.09859155, 0.15      , ..., 0.        ,\n",
              "          1.        , 1.        ],\n",
              "         [0.00585242, 0.09859155, 0.2       , ..., 0.        ,\n",
              "          1.        , 1.        ],\n",
              "         [0.00648855, 0.07042254, 0.125     , ..., 0.        ,\n",
              "          1.        , 1.        ]],\n",
              " \n",
              "        ...,\n",
              " \n",
              "        [[0.01030534, 0.21126761, 0.2875    , ..., 0.        ,\n",
              "          0.        , 1.        ],\n",
              "         [0.05648855, 0.23943662, 0.3125    , ..., 0.        ,\n",
              "          0.        , 1.        ],\n",
              "         [0.20318066, 0.23943662, 0.3       , ..., 0.        ,\n",
              "          0.        , 1.        ],\n",
              "         [0.40216285, 0.26760563, 0.3375    , ..., 0.        ,\n",
              "          0.        , 1.        ],\n",
              "         [0.17073791, 0.26760563, 0.325     , ..., 0.        ,\n",
              "          0.        , 1.        ]],\n",
              " \n",
              "        [[0.05648855, 0.23943662, 0.3125    , ..., 0.        ,\n",
              "          0.        , 1.        ],\n",
              "         [0.20318066, 0.23943662, 0.3       , ..., 0.        ,\n",
              "          0.        , 1.        ],\n",
              "         [0.40216285, 0.26760563, 0.3375    , ..., 0.        ,\n",
              "          0.        , 1.        ],\n",
              "         [0.17073791, 0.26760563, 0.325     , ..., 0.        ,\n",
              "          0.        , 1.        ],\n",
              "         [0.07226463, 0.29577465, 0.35      , ..., 0.        ,\n",
              "          0.        , 1.        ]],\n",
              " \n",
              "        [[0.20318066, 0.23943662, 0.3       , ..., 0.        ,\n",
              "          0.        , 1.        ],\n",
              "         [0.40216285, 0.26760563, 0.3375    , ..., 0.        ,\n",
              "          0.        , 1.        ],\n",
              "         [0.17073791, 0.26760563, 0.325     , ..., 0.        ,\n",
              "          0.        , 1.        ],\n",
              "         [0.07226463, 0.29577465, 0.35      , ..., 0.        ,\n",
              "          0.        , 1.        ],\n",
              "         [0.07430025, 0.29577465, 0.3375    , ..., 0.        ,\n",
              "          0.        , 1.        ]]]),\n",
              " array([0.00585242, 0.00648855, 0.00954198, 0.01666667, 0.03829517,\n",
              "        0.06717557, 0.09249364, 0.10966921, 0.11653944, 0.1321883 ,\n",
              "        0.1105598 , 0.0937659 , 0.07557252, 0.06641221, 0.04821883,\n",
              "        0.04173028, 0.02811705, 0.02264631, 0.01997455, 0.0105598 ,\n",
              "        0.00852417, 0.00407125, 0.00279898, 0.00483461, 0.01030534,\n",
              "        0.05648855, 0.20318066, 0.40216285, 0.17073791, 0.07226463,\n",
              "        0.07430025, 0.09694656]))"
            ]
          },
          "metadata": {
            "tags": []
          },
          "execution_count": 50
        }
      ]
    },
    {
      "cell_type": "code",
      "metadata": {
        "id": "Yz1xlWvsgyI5"
      },
      "source": [
        "import tensorflow as tf\r\n",
        "from tensorflow.keras.layers import LSTM, Dense \r\n",
        "from tensorflow.keras.models import Sequential\r\n",
        "from tensorflow.keras.callbacks import EarlyStopping  "
      ],
      "execution_count": 55,
      "outputs": []
    },
    {
      "cell_type": "code",
      "metadata": {
        "id": "4OMHVNaj3qz9"
      },
      "source": [
        "model  = Sequential()\r\n",
        "\r\n",
        "model.add(LSTM(units=128,return_sequences=True, input_shape=(5,9)))\r\n",
        "model.add(LSTM(units=64,return_sequences=True))\r\n",
        "model.add(LSTM(units=32))\r\n",
        "model.add(Dense(1))"
      ],
      "execution_count": 61,
      "outputs": []
    },
    {
      "cell_type": "code",
      "metadata": {
        "colab": {
          "base_uri": "https://localhost:8080/"
        },
        "id": "uC5IfPFE3uaP",
        "outputId": "398c60f3-3e14-40bb-c31c-07430b5c6420"
      },
      "source": [
        "model.summary()"
      ],
      "execution_count": 62,
      "outputs": [
        {
          "output_type": "stream",
          "text": [
            "Model: \"sequential_11\"\n",
            "_________________________________________________________________\n",
            "Layer (type)                 Output Shape              Param #   \n",
            "=================================================================\n",
            "lstm_21 (LSTM)               (None, 5, 128)            70656     \n",
            "_________________________________________________________________\n",
            "lstm_22 (LSTM)               (None, 5, 64)             49408     \n",
            "_________________________________________________________________\n",
            "lstm_23 (LSTM)               (None, 32)                12416     \n",
            "_________________________________________________________________\n",
            "dense_4 (Dense)              (None, 1)                 33        \n",
            "=================================================================\n",
            "Total params: 132,513\n",
            "Trainable params: 132,513\n",
            "Non-trainable params: 0\n",
            "_________________________________________________________________\n"
          ],
          "name": "stdout"
        }
      ]
    },
    {
      "cell_type": "code",
      "metadata": {
        "id": "d-mXbAPG4xxU"
      },
      "source": [
        "early_stopping = EarlyStopping(monitor='val_loss',patience=2,mode='min')\r\n",
        "\r\n",
        "model.compile(loss='mean_squared_error',optimizer='adam',metrics='mean_absolute_error')"
      ],
      "execution_count": 63,
      "outputs": []
    },
    {
      "cell_type": "code",
      "metadata": {
        "colab": {
          "base_uri": "https://localhost:8080/"
        },
        "id": "-jD1TVOR5uo1",
        "outputId": "73bfe891-437c-47f8-a64c-2b6c859e9cb8"
      },
      "source": [
        "model.fit(data_gen_train, epochs=50, validation_data =data_gen_test, shuffle=False, callbacks=[early_stopping])"
      ],
      "execution_count": 66,
      "outputs": [
        {
          "output_type": "stream",
          "text": [
            "Epoch 1/50\n",
            "408/408 [==============================] - 4s 9ms/step - loss: 5.9208e-04 - mean_absolute_error: 0.0154 - val_loss: 8.6236e-04 - val_mean_absolute_error: 0.0188\n",
            "Epoch 2/50\n",
            "408/408 [==============================] - 3s 7ms/step - loss: 5.8088e-04 - mean_absolute_error: 0.0153 - val_loss: 8.2460e-04 - val_mean_absolute_error: 0.0184\n",
            "Epoch 3/50\n",
            "408/408 [==============================] - 3s 7ms/step - loss: 5.7188e-04 - mean_absolute_error: 0.0152 - val_loss: 7.9899e-04 - val_mean_absolute_error: 0.0180\n",
            "Epoch 4/50\n",
            "408/408 [==============================] - 3s 7ms/step - loss: 5.6348e-04 - mean_absolute_error: 0.0151 - val_loss: 7.7752e-04 - val_mean_absolute_error: 0.0178\n",
            "Epoch 5/50\n",
            "408/408 [==============================] - 3s 7ms/step - loss: 5.5593e-04 - mean_absolute_error: 0.0151 - val_loss: 7.5922e-04 - val_mean_absolute_error: 0.0176\n",
            "Epoch 6/50\n",
            "408/408 [==============================] - 3s 7ms/step - loss: 5.4850e-04 - mean_absolute_error: 0.0150 - val_loss: 7.4305e-04 - val_mean_absolute_error: 0.0175\n",
            "Epoch 7/50\n",
            "408/408 [==============================] - 3s 7ms/step - loss: 5.4055e-04 - mean_absolute_error: 0.0149 - val_loss: 7.2853e-04 - val_mean_absolute_error: 0.0173\n",
            "Epoch 8/50\n",
            "408/408 [==============================] - 3s 7ms/step - loss: 5.3182e-04 - mean_absolute_error: 0.0148 - val_loss: 7.1642e-04 - val_mean_absolute_error: 0.0172\n",
            "Epoch 9/50\n",
            "408/408 [==============================] - 3s 7ms/step - loss: 5.2254e-04 - mean_absolute_error: 0.0146 - val_loss: 7.0787e-04 - val_mean_absolute_error: 0.0171\n",
            "Epoch 10/50\n",
            "408/408 [==============================] - 3s 7ms/step - loss: 5.1321e-04 - mean_absolute_error: 0.0145 - val_loss: 7.0429e-04 - val_mean_absolute_error: 0.0170\n",
            "Epoch 11/50\n",
            "408/408 [==============================] - 3s 7ms/step - loss: 5.0372e-04 - mean_absolute_error: 0.0143 - val_loss: 7.0736e-04 - val_mean_absolute_error: 0.0170\n",
            "Epoch 12/50\n",
            "408/408 [==============================] - 3s 7ms/step - loss: 4.9305e-04 - mean_absolute_error: 0.0142 - val_loss: 7.1248e-04 - val_mean_absolute_error: 0.0170\n"
          ],
          "name": "stdout"
        },
        {
          "output_type": "execute_result",
          "data": {
            "text/plain": [
              "<tensorflow.python.keras.callbacks.History at 0x7f12cfa6d9b0>"
            ]
          },
          "metadata": {
            "tags": []
          },
          "execution_count": 66
        }
      ]
    },
    {
      "cell_type": "code",
      "metadata": {
        "id": "9UfTZQM556Sb"
      },
      "source": [
        "predict = model.predict(data_gen_test)"
      ],
      "execution_count": 67,
      "outputs": []
    },
    {
      "cell_type": "code",
      "metadata": {
        "colab": {
          "base_uri": "https://localhost:8080/"
        },
        "id": "vqlOEDgvnKW2",
        "outputId": "b1ae4cab-ad42-494c-d4fc-cb6a75c7bb58"
      },
      "source": [
        "print(predict)"
      ],
      "execution_count": 68,
      "outputs": [
        {
          "output_type": "stream",
          "text": [
            "[[0.14537397]\n",
            " [0.08967613]\n",
            " [0.07432897]\n",
            " ...\n",
            " [0.05854025]\n",
            " [0.03672756]\n",
            " [0.02794904]]\n"
          ],
          "name": "stdout"
        }
      ]
    },
    {
      "cell_type": "code",
      "metadata": {
        "colab": {
          "base_uri": "https://localhost:8080/"
        },
        "id": "f9AH5H84nOfW",
        "outputId": "585472fa-e552-4db8-b734-6614984fb239"
      },
      "source": [
        "print(test_data)"
      ],
      "execution_count": 70,
      "outputs": [
        {
          "output_type": "stream",
          "text": [
            "[[0.28880407 0.5915493  0.6375     ... 0.         0.         0.33333333]\n",
            " [0.55839695 0.57746479 0.625      ... 0.         0.         0.33333333]\n",
            " [0.52226463 0.54929577 0.6        ... 0.         0.         0.33333333]\n",
            " ...\n",
            " [0.04287532 0.1971831  0.1875     ... 0.         0.         1.        ]\n",
            " [0.02849873 0.1971831  0.1875     ... 0.         0.         1.        ]\n",
            " [0.01768448 0.18309859 0.175      ... 0.         0.         1.        ]]\n"
          ],
          "name": "stdout"
        }
      ]
    },
    {
      "cell_type": "code",
      "metadata": {
        "colab": {
          "base_uri": "https://localhost:8080/"
        },
        "id": "7vzv4Vncn0Ou",
        "outputId": "cad68a0c-04d3-4a20-e90c-92887c22a686"
      },
      "source": [
        "test_data[:,:1][5:]"
      ],
      "execution_count": 72,
      "outputs": [
        {
          "output_type": "execute_result",
          "data": {
            "text/plain": [
              "array([[0.12735369],\n",
              "       [0.09249364],\n",
              "       [0.05712468],\n",
              "       ...,\n",
              "       [0.04287532],\n",
              "       [0.02849873],\n",
              "       [0.01768448]])"
            ]
          },
          "metadata": {
            "tags": []
          },
          "execution_count": 72
        }
      ]
    },
    {
      "cell_type": "code",
      "metadata": {
        "id": "PRBOE-DeoZTV"
      },
      "source": [
        "df_pred=pd.concat([pd.DataFrame(predict), pd.DataFrame(test_data[:,1:][5:])],axis=1)"
      ],
      "execution_count": 93,
      "outputs": []
    },
    {
      "cell_type": "code",
      "metadata": {
        "colab": {
          "base_uri": "https://localhost:8080/"
        },
        "id": "aUzqrCtao4MF",
        "outputId": "a36e85f8-a493-45da-ec67-353241a31a27"
      },
      "source": [
        "print(df_pred)"
      ],
      "execution_count": 94,
      "outputs": [
        {
          "output_type": "stream",
          "text": [
            "             0         0       1         2         3     4    5    6         7\n",
            "0     0.145374  0.549296  0.6000  0.723270  0.345133  0.08  0.0  0.0  0.333333\n",
            "1     0.089676  0.535211  0.5875  0.723270  0.353982  0.08  0.0  0.0  0.333333\n",
            "2     0.074329  0.521127  0.5750  0.710692  0.345133  0.08  0.0  0.0  0.333333\n",
            "3     0.043089  0.521127  0.5750  0.786164  0.353982  0.08  0.0  0.0  0.333333\n",
            "4     0.023796  0.492958  0.5500  0.786164  0.362832  0.12  0.0  0.0  0.333333\n",
            "...        ...       ...     ...       ...       ...   ...  ...  ...       ...\n",
            "4344  0.169237  0.183099  0.1750  0.761006  0.336283  0.08  0.0  0.0  1.000000\n",
            "4345  0.081590  0.183099  0.1750  0.761006  0.371681  0.12  0.0  0.0  1.000000\n",
            "4346  0.058540  0.197183  0.1875  0.729560  0.424779  0.12  0.0  0.0  1.000000\n",
            "4347  0.036728  0.197183  0.1875  0.698113  0.407080  0.12  0.0  0.0  1.000000\n",
            "4348  0.027949  0.183099  0.1750  0.698113  0.389381  0.04  0.0  0.0  1.000000\n",
            "\n",
            "[4349 rows x 9 columns]\n"
          ],
          "name": "stdout"
        }
      ]
    },
    {
      "cell_type": "code",
      "metadata": {
        "id": "WZuJTDZro5p9"
      },
      "source": [
        "rev_trans=scaler.inverse_transform(df_pred)"
      ],
      "execution_count": 95,
      "outputs": []
    },
    {
      "cell_type": "code",
      "metadata": {
        "colab": {
          "base_uri": "https://localhost:8080/"
        },
        "id": "fPs83tiHpAdt",
        "outputId": "4b9ed2c7-43ef-47de-afc2-2d79ada63ef6"
      },
      "source": [
        "print(rev_trans)"
      ],
      "execution_count": 96,
      "outputs": [
        {
          "output_type": "stream",
          "text": [
            "[[1.14263941e+03 1.80000000e+01 1.80000000e+01 ... 0.00000000e+00\n",
            "  0.00000000e+00 1.00000000e+00]\n",
            " [7.04854357e+02 1.75000000e+01 1.75000000e+01 ... 0.00000000e+00\n",
            "  0.00000000e+00 1.00000000e+00]\n",
            " [5.84225676e+02 1.70000000e+01 1.70000000e+01 ... 0.00000000e+00\n",
            "  0.00000000e+00 1.00000000e+00]\n",
            " ...\n",
            " [4.60126374e+02 5.50000000e+00 1.50000000e+00 ... 0.00000000e+00\n",
            "  0.00000000e+00 3.00000000e+00]\n",
            " [2.88678642e+02 5.50000000e+00 1.50000000e+00 ... 0.00000000e+00\n",
            "  0.00000000e+00 3.00000000e+00]\n",
            " [2.19679416e+02 5.00000000e+00 1.00000000e+00 ... 0.00000000e+00\n",
            "  0.00000000e+00 3.00000000e+00]]\n"
          ],
          "name": "stdout"
        }
      ]
    },
    {
      "cell_type": "code",
      "metadata": {
        "id": "V-We5Z3lpEg1"
      },
      "source": [
        "df_final=df[predict.shape[0]*-1:]"
      ],
      "execution_count": 97,
      "outputs": []
    },
    {
      "cell_type": "code",
      "metadata": {
        "colab": {
          "base_uri": "https://localhost:8080/"
        },
        "id": "dc6-_rvYrJDF",
        "outputId": "ac38d2b7-a627-442c-a1fe-f19e436d2f53"
      },
      "source": [
        "df_final['Pred']=rev_trans[:,0]"
      ],
      "execution_count": 98,
      "outputs": [
        {
          "output_type": "stream",
          "text": [
            "/usr/local/lib/python3.6/dist-packages/ipykernel_launcher.py:2: SettingWithCopyWarning: \n",
            "A value is trying to be set on a copy of a slice from a DataFrame.\n",
            "Try using .loc[row_indexer,col_indexer] = value instead\n",
            "\n",
            "See the caveats in the documentation: https://pandas.pydata.org/pandas-docs/stable/user_guide/indexing.html#returning-a-view-versus-a-copy\n",
            "  \n"
          ],
          "name": "stderr"
        }
      ]
    },
    {
      "cell_type": "code",
      "metadata": {
        "colab": {
          "base_uri": "https://localhost:8080/",
          "height": 419
        },
        "id": "u2ZbMvJHpQut",
        "outputId": "7f765909-721a-4061-cc54-61f6f31fb5d3"
      },
      "source": [
        "df_final"
      ],
      "execution_count": 102,
      "outputs": [
        {
          "output_type": "execute_result",
          "data": {
            "text/html": [
              "<div>\n",
              "<style scoped>\n",
              "    .dataframe tbody tr th:only-of-type {\n",
              "        vertical-align: middle;\n",
              "    }\n",
              "\n",
              "    .dataframe tbody tr th {\n",
              "        vertical-align: top;\n",
              "    }\n",
              "\n",
              "    .dataframe thead th {\n",
              "        text-align: right;\n",
              "    }\n",
              "</style>\n",
              "<table border=\"1\" class=\"dataframe\">\n",
              "  <thead>\n",
              "    <tr style=\"text-align: right;\">\n",
              "      <th></th>\n",
              "      <th>cnt</th>\n",
              "      <th>t1</th>\n",
              "      <th>t2</th>\n",
              "      <th>hum</th>\n",
              "      <th>wind_speed</th>\n",
              "      <th>weather_code</th>\n",
              "      <th>is_holiday</th>\n",
              "      <th>is_weekend</th>\n",
              "      <th>season</th>\n",
              "      <th>Pred</th>\n",
              "    </tr>\n",
              "  </thead>\n",
              "  <tbody>\n",
              "    <tr>\n",
              "      <th>13065</th>\n",
              "      <td>1001</td>\n",
              "      <td>18.0</td>\n",
              "      <td>18.0</td>\n",
              "      <td>78.0</td>\n",
              "      <td>19.5</td>\n",
              "      <td>3.0</td>\n",
              "      <td>0.0</td>\n",
              "      <td>0.0</td>\n",
              "      <td>1.0</td>\n",
              "      <td>1142.639406</td>\n",
              "    </tr>\n",
              "    <tr>\n",
              "      <th>13066</th>\n",
              "      <td>727</td>\n",
              "      <td>17.5</td>\n",
              "      <td>17.5</td>\n",
              "      <td>78.0</td>\n",
              "      <td>20.0</td>\n",
              "      <td>3.0</td>\n",
              "      <td>0.0</td>\n",
              "      <td>0.0</td>\n",
              "      <td>1.0</td>\n",
              "      <td>704.854357</td>\n",
              "    </tr>\n",
              "    <tr>\n",
              "      <th>13067</th>\n",
              "      <td>449</td>\n",
              "      <td>17.0</td>\n",
              "      <td>17.0</td>\n",
              "      <td>77.0</td>\n",
              "      <td>19.5</td>\n",
              "      <td>3.0</td>\n",
              "      <td>0.0</td>\n",
              "      <td>0.0</td>\n",
              "      <td>1.0</td>\n",
              "      <td>584.225676</td>\n",
              "    </tr>\n",
              "    <tr>\n",
              "      <th>13068</th>\n",
              "      <td>216</td>\n",
              "      <td>17.0</td>\n",
              "      <td>17.0</td>\n",
              "      <td>83.0</td>\n",
              "      <td>20.0</td>\n",
              "      <td>3.0</td>\n",
              "      <td>0.0</td>\n",
              "      <td>0.0</td>\n",
              "      <td>1.0</td>\n",
              "      <td>338.678622</td>\n",
              "    </tr>\n",
              "    <tr>\n",
              "      <th>13069</th>\n",
              "      <td>132</td>\n",
              "      <td>16.0</td>\n",
              "      <td>16.0</td>\n",
              "      <td>83.0</td>\n",
              "      <td>20.5</td>\n",
              "      <td>4.0</td>\n",
              "      <td>0.0</td>\n",
              "      <td>0.0</td>\n",
              "      <td>1.0</td>\n",
              "      <td>187.033453</td>\n",
              "    </tr>\n",
              "    <tr>\n",
              "      <th>...</th>\n",
              "      <td>...</td>\n",
              "      <td>...</td>\n",
              "      <td>...</td>\n",
              "      <td>...</td>\n",
              "      <td>...</td>\n",
              "      <td>...</td>\n",
              "      <td>...</td>\n",
              "      <td>...</td>\n",
              "      <td>...</td>\n",
              "      <td>...</td>\n",
              "    </tr>\n",
              "    <tr>\n",
              "      <th>17409</th>\n",
              "      <td>1042</td>\n",
              "      <td>5.0</td>\n",
              "      <td>1.0</td>\n",
              "      <td>81.0</td>\n",
              "      <td>19.0</td>\n",
              "      <td>3.0</td>\n",
              "      <td>0.0</td>\n",
              "      <td>0.0</td>\n",
              "      <td>3.0</td>\n",
              "      <td>1330.203544</td>\n",
              "    </tr>\n",
              "    <tr>\n",
              "      <th>17410</th>\n",
              "      <td>541</td>\n",
              "      <td>5.0</td>\n",
              "      <td>1.0</td>\n",
              "      <td>81.0</td>\n",
              "      <td>21.0</td>\n",
              "      <td>4.0</td>\n",
              "      <td>0.0</td>\n",
              "      <td>0.0</td>\n",
              "      <td>3.0</td>\n",
              "      <td>641.300772</td>\n",
              "    </tr>\n",
              "    <tr>\n",
              "      <th>17411</th>\n",
              "      <td>337</td>\n",
              "      <td>5.5</td>\n",
              "      <td>1.5</td>\n",
              "      <td>78.5</td>\n",
              "      <td>24.0</td>\n",
              "      <td>4.0</td>\n",
              "      <td>0.0</td>\n",
              "      <td>0.0</td>\n",
              "      <td>3.0</td>\n",
              "      <td>460.126374</td>\n",
              "    </tr>\n",
              "    <tr>\n",
              "      <th>17412</th>\n",
              "      <td>224</td>\n",
              "      <td>5.5</td>\n",
              "      <td>1.5</td>\n",
              "      <td>76.0</td>\n",
              "      <td>23.0</td>\n",
              "      <td>4.0</td>\n",
              "      <td>0.0</td>\n",
              "      <td>0.0</td>\n",
              "      <td>3.0</td>\n",
              "      <td>288.678642</td>\n",
              "    </tr>\n",
              "    <tr>\n",
              "      <th>17413</th>\n",
              "      <td>139</td>\n",
              "      <td>5.0</td>\n",
              "      <td>1.0</td>\n",
              "      <td>76.0</td>\n",
              "      <td>22.0</td>\n",
              "      <td>2.0</td>\n",
              "      <td>0.0</td>\n",
              "      <td>0.0</td>\n",
              "      <td>3.0</td>\n",
              "      <td>219.679416</td>\n",
              "    </tr>\n",
              "  </tbody>\n",
              "</table>\n",
              "<p>4349 rows × 10 columns</p>\n",
              "</div>"
            ],
            "text/plain": [
              "        cnt    t1    t2   hum  ...  is_holiday  is_weekend  season         Pred\n",
              "13065  1001  18.0  18.0  78.0  ...         0.0         0.0     1.0  1142.639406\n",
              "13066   727  17.5  17.5  78.0  ...         0.0         0.0     1.0   704.854357\n",
              "13067   449  17.0  17.0  77.0  ...         0.0         0.0     1.0   584.225676\n",
              "13068   216  17.0  17.0  83.0  ...         0.0         0.0     1.0   338.678622\n",
              "13069   132  16.0  16.0  83.0  ...         0.0         0.0     1.0   187.033453\n",
              "...     ...   ...   ...   ...  ...         ...         ...     ...          ...\n",
              "17409  1042   5.0   1.0  81.0  ...         0.0         0.0     3.0  1330.203544\n",
              "17410   541   5.0   1.0  81.0  ...         0.0         0.0     3.0   641.300772\n",
              "17411   337   5.5   1.5  78.5  ...         0.0         0.0     3.0   460.126374\n",
              "17412   224   5.5   1.5  76.0  ...         0.0         0.0     3.0   288.678642\n",
              "17413   139   5.0   1.0  76.0  ...         0.0         0.0     3.0   219.679416\n",
              "\n",
              "[4349 rows x 10 columns]"
            ]
          },
          "metadata": {
            "tags": []
          },
          "execution_count": 102
        }
      ]
    },
    {
      "cell_type": "code",
      "metadata": {
        "colab": {
          "base_uri": "https://localhost:8080/",
          "height": 497
        },
        "id": "Anf6Mz0ApYSV",
        "outputId": "7ba2f83a-cf5b-4d1e-d2a4-1f3fe7b6a6f5"
      },
      "source": [
        "plt.figure(figsize=(12,8))\r\n",
        "plt.plot(df_final['cnt'],color='blue',label='Actual')\r\n",
        "plt.plot(df_final['Pred'],color='orange',label='Predicted')\r\n",
        "plt.xlabel('Time Step')\r\n",
        "plt.ylabel('Bike Count')\r\n",
        "plt.legend()\r\n",
        "plt.show()"
      ],
      "execution_count": 107,
      "outputs": [
        {
          "output_type": "display_data",
          "data": {
            "image/png": "[encoded data removed]",
            "text/plain": [
              "<Figure size 864x576 with 1 Axes>"
            ]
          },
          "metadata": {
            "tags": [],
            "needs_background": "light"
          }
        }
      ]
    },
    {
      "cell_type": "code",
      "metadata": {
        "id": "YiQQ0Upc17eD"
      },
      "source": [
        ""
      ],
      "execution_count": null,
      "outputs": []
    }
  ]
}